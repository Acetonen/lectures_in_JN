{
 "cells": [
  {
   "cell_type": "markdown",
   "metadata": {},
   "source": [
    "## Old Style with os and sys"
   ]
  },
  {
   "cell_type": "code",
   "execution_count": 3,
   "metadata": {},
   "outputs": [],
   "source": [
    "import sys\n",
    "import os"
   ]
  },
  {
   "cell_type": "code",
   "execution_count": 5,
   "metadata": {},
   "outputs": [
    {
     "data": {
      "text/plain": [
       "'/usr/local/lib/python3.6/dist-packages/ipykernel_launcher.py'"
      ]
     },
     "execution_count": 5,
     "metadata": {},
     "output_type": "execute_result"
    }
   ],
   "source": [
    "script_name = sys.argv[0]  # Find script name.\n",
    "script_name"
   ]
  },
  {
   "cell_type": "code",
   "execution_count": 6,
   "metadata": {},
   "outputs": [
    {
     "data": {
      "text/plain": [
       "'/usr/local/lib/python3.6/dist-packages'"
      ]
     },
     "execution_count": 6,
     "metadata": {},
     "output_type": "execute_result"
    }
   ],
   "source": [
    "script_path = os.path.dirname(script_name)  # Find script path.\n",
    "script_path"
   ]
  },
  {
   "cell_type": "code",
   "execution_count": 7,
   "metadata": {},
   "outputs": [
    {
     "data": {
      "text/plain": [
       "'/usr/local/lib/python3.6/dist-packages'"
      ]
     },
     "execution_count": 7,
     "metadata": {},
     "output_type": "execute_result"
    }
   ],
   "source": [
    "absolute_path = os.path.abspath(script_path)  # Find abs path.\n",
    "absolute_path"
   ]
  },
  {
   "cell_type": "code",
   "execution_count": 9,
   "metadata": {},
   "outputs": [
    {
     "data": {
      "text/plain": [
       "'/usr/local/lib/python3.6/dist-packages/templates'"
      ]
     },
     "execution_count": 9,
     "metadata": {},
     "output_type": "execute_result"
    }
   ],
   "source": [
    "file_path = os.path.join(absolute_path, 'templates')\n",
    "file_path"
   ]
  },
  {
   "cell_type": "markdown",
   "metadata": {},
   "source": [
    "## New Style with pathlib"
   ]
  },
  {
   "cell_type": "code",
   "execution_count": 3,
   "metadata": {},
   "outputs": [],
   "source": [
    "from pathlib import Path"
   ]
  },
  {
   "cell_type": "code",
   "execution_count": 18,
   "metadata": {},
   "outputs": [
    {
     "name": "stdout",
     "output_type": "stream",
     "text": [
      "/usr/local/lib/python3.6/dist-packages\n"
     ]
    }
   ],
   "source": [
    "# .resolve() - find full path\n",
    "root_dir = Path(script_name).resolve().parent\n",
    "print(root_dir)"
   ]
  },
  {
   "cell_type": "code",
   "execution_count": 23,
   "metadata": {},
   "outputs": [
    {
     "name": "stdout",
     "output_type": "stream",
     "text": [
      "/usr/local/lib/python3.6/dist-packages/another_dir/templates\n",
      "/usr/local/lib/python3.6/dist-packages/another_dir/templates\n"
     ]
    }
   ],
   "source": [
    "data_path = root_dir.joinpath('another_dir', 'templates')\n",
    "data2_path = root_dir / 'another_dir' / 'templates'\n",
    "print(data2_path)\n",
    "print(data_path)"
   ]
  },
  {
   "cell_type": "code",
   "execution_count": null,
   "metadata": {},
   "outputs": [],
   "source": [
    "# Make dir.\n",
    "Path('src/__pypackages__').mkdir(parents=True, exist_ok=True)\n",
    "# Rename file.\n",
    "Path('.editorconfig').rename('src/.editorconfig')"
   ]
  },
  {
   "cell_type": "code",
   "execution_count": null,
   "metadata": {},
   "outputs": [],
   "source": [
    "# top_level_csv_files = glob('*.csv')\n",
    "top_level_py_files = Path.cwd().glob('*.py') \n",
    "# all_csv_files = glob('**/*.csv', recursive=True)\n",
    "all_csv_files = Path.cwd().rglob('*.py') \n"
   ]
  },
  {
   "cell_type": "code",
   "execution_count": null,
   "metadata": {},
   "outputs": [],
   "source": [
    "#  Read text in one or more files.\n",
    "file_contents = [\n",
    "    path.read_text()\n",
    "    for path in Path.cwd().rglob('*.py')\n",
    "]"
   ]
  },
  {
   "cell_type": "code",
   "execution_count": null,
   "metadata": {},
   "outputs": [],
   "source": [
    "#  Write text to file!\n",
    "Path('.editorconfig').write_text('# config goes here')\n",
    "#  Read text\n",
    "Path('.editorconfig').read_text()"
   ]
  },
  {
   "cell_type": "code",
   "execution_count": 5,
   "metadata": {},
   "outputs": [],
   "source": [
    "path = Path('test.md')"
   ]
  },
  {
   "cell_type": "code",
   "execution_count": 6,
   "metadata": {},
   "outputs": [
    {
     "data": {
      "text/plain": [
       "PosixPath('test.md')"
      ]
     },
     "execution_count": 6,
     "metadata": {},
     "output_type": "execute_result"
    }
   ],
   "source": [
    "path"
   ]
  },
  {
   "cell_type": "code",
   "execution_count": 7,
   "metadata": {},
   "outputs": [
    {
     "data": {
      "text/plain": [
       "'test.md'"
      ]
     },
     "execution_count": 7,
     "metadata": {},
     "output_type": "execute_result"
    }
   ],
   "source": [
    "path.name"
   ]
  },
  {
   "cell_type": "code",
   "execution_count": 8,
   "metadata": {},
   "outputs": [
    {
     "data": {
      "text/plain": [
       "'test'"
      ]
     },
     "execution_count": 8,
     "metadata": {},
     "output_type": "execute_result"
    }
   ],
   "source": [
    "path.stem"
   ]
  },
  {
   "cell_type": "code",
   "execution_count": 9,
   "metadata": {},
   "outputs": [
    {
     "data": {
      "text/plain": [
       "'.md'"
      ]
     },
     "execution_count": 9,
     "metadata": {},
     "output_type": "execute_result"
    }
   ],
   "source": [
    "path.suffix"
   ]
  },
  {
   "cell_type": "code",
   "execution_count": 4,
   "metadata": {},
   "outputs": [],
   "source": [
    "path = Path('backup')\n",
    "path = path.joinpath('date').with_suffix(\".zip\")"
   ]
  },
  {
   "cell_type": "code",
   "execution_count": 31,
   "metadata": {},
   "outputs": [
    {
     "data": {
      "text/plain": [
       "PosixPath('.')"
      ]
     },
     "execution_count": 31,
     "metadata": {},
     "output_type": "execute_result"
    }
   ],
   "source": [
    "path.parent"
   ]
  },
  {
   "cell_type": "code",
   "execution_count": 32,
   "metadata": {},
   "outputs": [
    {
     "data": {
      "text/plain": [
       "''"
      ]
     },
     "execution_count": 32,
     "metadata": {},
     "output_type": "execute_result"
    }
   ],
   "source": [
    "path.anchor #  the part of the path before the directories"
   ]
  },
  {
   "cell_type": "markdown",
   "metadata": {},
   "source": [
    "#### Directories and files can be deleted using .rmdir() and .unlink() .exists()"
   ]
  },
  {
   "cell_type": "code",
   "execution_count": 36,
   "metadata": {},
   "outputs": [
    {
     "data": {
      "text/plain": [
       "False"
      ]
     },
     "execution_count": 36,
     "metadata": {},
     "output_type": "execute_result"
    }
   ],
   "source": [
    "path.exists()"
   ]
  },
  {
   "cell_type": "markdown",
   "metadata": {},
   "source": [
    "#### Listdir with Path"
   ]
  },
  {
   "cell_type": "code",
   "execution_count": 11,
   "metadata": {},
   "outputs": [
    {
     "name": "stdout",
     "output_type": "stream",
     "text": [
      "decorators.ipynb\n",
      "argparse_tutorial.ipynb\n",
      "openpyxl_tutorial.ipynb\n",
      ".ipynb_checkpoints\n",
      "dictionary_class.ipynb\n",
      "asyncIO_basic.ipynb\n",
      "closure_function.ipynb\n",
      "slots.ipynb\n",
      "histogram_matplotlib.ipynb\n",
      "logging_basic.ipynb\n",
      "matplotlib_basics.ipynb\n",
      "data_aggregation.ipynb\n",
      "pathlib_basic.ipynb\n",
      "secret_key\n",
      "bar_graph.ipynb\n",
      "generators-coroutines-async_Event_Loop.ipynb\n",
      "RSA_test\n",
      "testing_basics.ipynb\n",
      "concurrent.futures_basic.ipynb\n",
      "bcrypt-basic.ipynb\n",
      ".git\n",
      "threading_basic.ipynb\n",
      "pyCrypto_basic.ipynb\n",
      "read_email_with_python.ipynb\n",
      "scatter_plots.ipynb\n",
      ".gitignore\n",
      "looping_like_pro.ipynb\n",
      "recurtion.ipynb\n",
      "properties_descriptors.ipynb\n",
      "calendar.ipynb\n",
      "pandas_basic.ipynb\n",
      "data_classes.ipynb\n",
      "linechat_timeseries.ipynb\n",
      "resorces\n",
      "async_python.ipynb\n"
     ]
    }
   ],
   "source": [
    "entries = Path('')\n",
    "for entry in entries.iterdir():\n",
    "    print(entry.name)"
   ]
  },
  {
   "cell_type": "markdown",
   "metadata": {},
   "source": [
    "#### Only files"
   ]
  },
  {
   "cell_type": "code",
   "execution_count": 12,
   "metadata": {},
   "outputs": [
    {
     "name": "stdout",
     "output_type": "stream",
     "text": [
      "decorators.ipynb\n",
      "argparse_tutorial.ipynb\n",
      "openpyxl_tutorial.ipynb\n",
      "dictionary_class.ipynb\n",
      "asyncIO_basic.ipynb\n",
      "closure_function.ipynb\n",
      "slots.ipynb\n",
      "histogram_matplotlib.ipynb\n",
      "logging_basic.ipynb\n",
      "matplotlib_basics.ipynb\n",
      "data_aggregation.ipynb\n",
      "pathlib_basic.ipynb\n",
      "secret_key\n",
      "bar_graph.ipynb\n",
      "generators-coroutines-async_Event_Loop.ipynb\n",
      "RSA_test\n",
      "testing_basics.ipynb\n",
      "concurrent.futures_basic.ipynb\n",
      "bcrypt-basic.ipynb\n",
      "threading_basic.ipynb\n",
      "pyCrypto_basic.ipynb\n",
      "read_email_with_python.ipynb\n",
      "scatter_plots.ipynb\n",
      ".gitignore\n",
      "looping_like_pro.ipynb\n",
      "recurtion.ipynb\n",
      "properties_descriptors.ipynb\n",
      "calendar.ipynb\n",
      "pandas_basic.ipynb\n",
      "data_classes.ipynb\n",
      "linechat_timeseries.ipynb\n",
      "async_python.ipynb\n"
     ]
    }
   ],
   "source": [
    "basepath = Path('')\n",
    "files_in_basepath = basepath.iterdir()\n",
    "for item in files_in_basepath:\n",
    "    if item.is_file():\n",
    "        print(item.name)"
   ]
  },
  {
   "cell_type": "markdown",
   "metadata": {},
   "source": [
    "#### Only dirs"
   ]
  },
  {
   "cell_type": "code",
   "execution_count": 13,
   "metadata": {},
   "outputs": [
    {
     "name": "stdout",
     "output_type": "stream",
     "text": [
      ".ipynb_checkpoints\n",
      ".git\n",
      "resorces\n"
     ]
    }
   ],
   "source": [
    "basepath = Path('')\n",
    "for entry in basepath.iterdir():\n",
    "    if entry.is_dir():\n",
    "        print(entry.name)"
   ]
  },
  {
   "cell_type": "markdown",
   "metadata": {},
   "source": [
    "### Create directories."
   ]
  },
  {
   "cell_type": "code",
   "execution_count": null,
   "metadata": {},
   "outputs": [],
   "source": [
    "p = pathlib.Path('2018/10/05')\n",
    "p.mkdir(parents=True)"
   ]
  },
  {
   "cell_type": "code",
   "execution_count": null,
   "metadata": {},
   "outputs": [],
   "source": []
  }
 ],
 "metadata": {
  "kernelspec": {
   "display_name": "Python 3",
   "language": "python",
   "name": "python3"
  },
  "language_info": {
   "codemirror_mode": {
    "name": "ipython",
    "version": 3
   },
   "file_extension": ".py",
   "mimetype": "text/x-python",
   "name": "python",
   "nbconvert_exporter": "python",
   "pygments_lexer": "ipython3",
   "version": "3.6.5"
  }
 },
 "nbformat": 4,
 "nbformat_minor": 2
}
