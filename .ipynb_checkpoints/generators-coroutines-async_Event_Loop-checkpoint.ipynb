{
 "cells": [
  {
   "cell_type": "markdown",
   "metadata": {},
   "source": [
    "# PYTHON: GENERATORS, COROUTINES, NATIVE COROUTINES AND ASYNC/AWAIT"
   ]
  },
  {
   "cell_type": "markdown",
   "metadata": {},
   "source": [
    "## Generators"
   ]
  },
  {
   "cell_type": "code",
   "execution_count": 1,
   "metadata": {},
   "outputs": [
    {
     "name": "stdout",
     "output_type": "stream",
     "text": [
      "Hello\n",
      "World\n"
     ]
    }
   ],
   "source": [
    "def simple_gen():\n",
    "    yield \"Hello\"\n",
    "    yield \"World\"\n",
    "\n",
    "gen = simple_gen()\n",
    "print(next(gen))\n",
    "print(next(gen))"
   ]
  },
  {
   "cell_type": "code",
   "execution_count": 2,
   "metadata": {},
   "outputs": [
    {
     "name": "stdout",
     "output_type": "stream",
     "text": [
      "0\n",
      "1\n",
      "2\n",
      "3\n",
      "4\n",
      "5\n",
      "6\n",
      "7\n",
      "8\n",
      "9\n",
      "10\n"
     ]
    }
   ],
   "source": [
    "def generate_nums():\n",
    "    num = 0\n",
    "    while True:\n",
    "        yield num\n",
    "        num = num + 1\n",
    "\n",
    "nums = generate_nums()\n",
    " \n",
    "for x in nums:\n",
    "    print(x)\n",
    "    if x > 9:\n",
    "        break"
   ]
  },
  {
   "cell_type": "markdown",
   "metadata": {},
   "source": [
    "**Summary**: \n",
    "> A generator function is a function that can pause execution and generate multiple values instead of just returning one value. When called, it gives us a generator object which acts like an iterable. We can use (iterate over) the iterable to get the values one by one."
   ]
  },
  {
   "cell_type": "markdown",
   "metadata": {},
   "source": [
    "## Coroutines"
   ]
  },
  {
   "cell_type": "markdown",
   "metadata": {},
   "source": [
    "In the last section we have seen that using generators we can pull data from a function context (and pause execution). What if we wanted to push some data too? That’s where coroutines comes into play. The *yield* keyword we use to pull values can also be used as an expression (on the right side of “=”) inside the function. We can use the *send()* method on a generator object to pass values back into the function. This is called “generator based coroutines”. Here’s an example:"
   ]
  },
  {
   "cell_type": "code",
   "execution_count": 3,
   "metadata": {},
   "outputs": [
    {
     "name": "stdout",
     "output_type": "stream",
     "text": [
      "Hello\n",
      "World\n"
     ]
    }
   ],
   "source": [
    "def coro():\n",
    "    hello = yield \"Hello\"\n",
    "    yield hello\n",
    "\n",
    "c = coro()\n",
    "print(next(c))\n",
    "print(c.send(\"World\"))"
   ]
  },
  {
   "cell_type": "markdown",
   "metadata": {},
   "source": [
    "When we’re using generator based coroutines, by the terms “generator” and “coroutine” we usually mean the same thing. Though they are not exactly the same thing, it is very often used interchangeably in such cases. However, with Python 3.5 we have *async/await* keywords along with native coroutines. We will discuss those later in this post."
   ]
  },
  {
   "cell_type": "markdown",
   "metadata": {},
   "source": [
    "## Async I/O and the asyncio module"
   ]
  },
  {
   "cell_type": "code",
   "execution_count": 4,
   "metadata": {},
   "outputs": [
    {
     "ename": "RuntimeError",
     "evalue": "This event loop is already running",
     "output_type": "error",
     "traceback": [
      "\u001b[0;31m---------------------------------------------------------------------------\u001b[0m",
      "\u001b[0;31mRuntimeError\u001b[0m                              Traceback (most recent call last)",
      "\u001b[0;32m<ipython-input-4-6a8d3a3720cc>\u001b[0m in \u001b[0;36m<module>\u001b[0;34m\u001b[0m\n\u001b[1;32m     19\u001b[0m \u001b[0masyncio\u001b[0m\u001b[0;34m.\u001b[0m\u001b[0mensure_future\u001b[0m\u001b[0;34m(\u001b[0m\u001b[0mdisplay_date\u001b[0m\u001b[0;34m(\u001b[0m\u001b[0;36m2\u001b[0m\u001b[0;34m,\u001b[0m \u001b[0mloop\u001b[0m\u001b[0;34m)\u001b[0m\u001b[0;34m)\u001b[0m\u001b[0;34m\u001b[0m\u001b[0m\n\u001b[1;32m     20\u001b[0m \u001b[0;34m\u001b[0m\u001b[0m\n\u001b[0;32m---> 21\u001b[0;31m \u001b[0mloop\u001b[0m\u001b[0;34m.\u001b[0m\u001b[0mrun_forever\u001b[0m\u001b[0;34m(\u001b[0m\u001b[0;34m)\u001b[0m\u001b[0;34m\u001b[0m\u001b[0m\n\u001b[0m",
      "\u001b[0;32m/usr/lib/python3.6/asyncio/base_events.py\u001b[0m in \u001b[0;36mrun_forever\u001b[0;34m(self)\u001b[0m\n\u001b[1;32m    407\u001b[0m         \u001b[0mself\u001b[0m\u001b[0;34m.\u001b[0m\u001b[0m_check_closed\u001b[0m\u001b[0;34m(\u001b[0m\u001b[0;34m)\u001b[0m\u001b[0;34m\u001b[0m\u001b[0m\n\u001b[1;32m    408\u001b[0m         \u001b[0;32mif\u001b[0m \u001b[0mself\u001b[0m\u001b[0;34m.\u001b[0m\u001b[0mis_running\u001b[0m\u001b[0;34m(\u001b[0m\u001b[0;34m)\u001b[0m\u001b[0;34m:\u001b[0m\u001b[0;34m\u001b[0m\u001b[0m\n\u001b[0;32m--> 409\u001b[0;31m             \u001b[0;32mraise\u001b[0m \u001b[0mRuntimeError\u001b[0m\u001b[0;34m(\u001b[0m\u001b[0;34m'This event loop is already running'\u001b[0m\u001b[0;34m)\u001b[0m\u001b[0;34m\u001b[0m\u001b[0m\n\u001b[0m\u001b[1;32m    410\u001b[0m         \u001b[0;32mif\u001b[0m \u001b[0mevents\u001b[0m\u001b[0;34m.\u001b[0m\u001b[0m_get_running_loop\u001b[0m\u001b[0;34m(\u001b[0m\u001b[0;34m)\u001b[0m \u001b[0;32mis\u001b[0m \u001b[0;32mnot\u001b[0m \u001b[0;32mNone\u001b[0m\u001b[0;34m:\u001b[0m\u001b[0;34m\u001b[0m\u001b[0m\n\u001b[1;32m    411\u001b[0m             raise RuntimeError(\n",
      "\u001b[0;31mRuntimeError\u001b[0m: This event loop is already running"
     ]
    }
   ],
   "source": [
    "import asyncio\n",
    "import datetime\n",
    "import random\n",
    " \n",
    "\n",
    "@asyncio.coroutine\n",
    "def display_date(num, loop):\n",
    "    end_time = loop.time() + 50.0\n",
    "    while True:\n",
    "        print(\"Loop: {} Time: {}\".format(num, datetime.datetime.now()))\n",
    "        if (loop.time() + 1.0) >= end_time:\n",
    "            break\n",
    "        yield from asyncio.sleep(random.randint(0, 5))\n",
    "\n",
    "loop = asyncio.get_event_loop()\n",
    " \n",
    "asyncio.ensure_future(display_date(1, loop))\n",
    "asyncio.ensure_future(display_date(2, loop))\n",
    " \n",
    "loop.run_forever()"
   ]
  },
  {
   "cell_type": "markdown",
   "metadata": {},
   "source": [
    "The code is pretty self explanatory. We create a coroutine display_date(num, loop) which takes an identifier (number) and an event loop and continues to print the current time. Then it used the yield from keyword to await results from asyncio.sleep() function call. The function is a coroutine which completes after a given seconds. So we pass random seconds to it. Then we use asyncio.ensure_future() to schedule the execution of the coroutine in the default event loop. Then we ask the loop to keep running.\n",
    "\n",
    "If we see the output, we shall see that the two coroutines are executed concurrently. When we use yield from, the event loop knows that it’s going to be busy for a while so it pauses execution of the coroutine and runs another. Thus two coroutines run concurrently (but not in parallel since the event loop is single threaded).\n",
    "\n",
    "Just so you know, **yield from** is a nice syntactic sugar for \n",
    "\n",
    "> `for x in asyncio.sleep(random.randint(0, 5)): yield x` \n",
    "\n",
    "making async codes cleaner."
   ]
  },
  {
   "cell_type": "markdown",
   "metadata": {},
   "source": [
    "## Native Coroutines and async/await"
   ]
  },
  {
   "cell_type": "code",
   "execution_count": null,
   "metadata": {},
   "outputs": [],
   "source": [
    "import asyncio\n",
    "import datetime\n",
    "import random\n",
    " \n",
    "async def display_date(num, loop, ):\n",
    "    end_time = loop.time() + 50.0\n",
    "    while True:\n",
    "        print(\"Loop: {} Time: {}\".format(num, datetime.datetime.now()))\n",
    "        if (loop.time() + 1.0) >= end_time:\n",
    "            break\n",
    "        await asyncio.sleep(random.randint(0, 5))\n",
    "\n",
    "loop = asyncio.get_event_loop()\n",
    " \n",
    "asyncio.ensure_future(display_date(1, loop))\n",
    "asyncio.ensure_future(display_date(2, loop))\n",
    " \n",
    "loop.run_forever()"
   ]
  },
  {
   "cell_type": "markdown",
   "metadata": {},
   "source": [
    "## Native vs Generator Based Coroutines: Interoperability"
   ]
  },
  {
   "cell_type": "markdown",
   "metadata": {},
   "source": [
    "Despite the differences, we can interoperate between those. We just need to add *\\@types.coroutine* decorator to old generator based ones. Then we can use one from inside the other type. That is we can *await* from generator based coroutines inside a native coroutine and *yield from* native coroutines when we are inside generator based coroutines. Here’s an example:"
   ]
  },
  {
   "cell_type": "code",
   "execution_count": null,
   "metadata": {},
   "outputs": [],
   "source": [
    "import asyncio\n",
    "import datetime\n",
    "import random\n",
    "import types\n",
    " \n",
    "\n",
    "@types.coroutine\n",
    "def my_sleep_func():\n",
    "    yield from asyncio.sleep(random.randint(0, 5))\n",
    "\n",
    "\n",
    "async def display_date(num, loop, ):\n",
    "    end_time = loop.time() + 50.0\n",
    "    while True:\n",
    "        print(\"Loop: {} Time: {}\".format(num, datetime.datetime.now()))\n",
    "        if (loop.time() + 1.0) >= end_time:\n",
    "            break\n",
    "        await my_sleep_func()\n",
    "\n",
    "\n",
    "loop = asyncio.get_event_loop()\n",
    " \n",
    "asyncio.ensure_future(display_date(1, loop))\n",
    "asyncio.ensure_future(display_date(2, loop))\n",
    " \n",
    "loop.run_forever()"
   ]
  },
  {
   "cell_type": "markdown",
   "metadata": {},
   "source": [
    "# Event Loop"
   ]
  },
  {
   "cell_type": "markdown",
   "metadata": {},
   "source": [
    "On any platform, when we want to do something asynchronously, it usually involves an event loop. An event loop is a loop that can register tasks to be executed, execute them, delay or even cancel them and handle different events related to these operations. Generally, we schedule multiple async functions to the event loop. The loop runs one function, while that function waits for IO, it pauses it and runs another. When the first function completes IO, it is resumed. Thus two or more functions can co-operatively run together. This the main goal of an event loop."
   ]
  },
  {
   "cell_type": "markdown",
   "metadata": {},
   "source": [
    "## Fitting Event Loop and Future/Task Together"
   ]
  },
  {
   "cell_type": "markdown",
   "metadata": {},
   "source": [
    "It’s simple. We need an event loop and we need to register our future/task objects with the event loop. The loop will schedule and run them. We can add callbacks to our future/task objects so that we can be notified when a future has it’s results.\n",
    "\n",
    "Very often we choose to use coroutines for our work. We wrap a coroutine in Future and get a Task object. When a coroutine yields, it is paused. When it has a value, it is resumed. When it returns, the Task has completed and gets a value. Any associated callback is run. If the coroutine raises an exception, the Task fails and not resolved."
   ]
  },
  {
   "cell_type": "code",
   "execution_count": null,
   "metadata": {},
   "outputs": [],
   "source": [
    "import asyncio\n",
    " \n",
    " \n",
    "@asyncio.coroutine\n",
    "def slow_operation():\n",
    "    # yield from suspends execution until\n",
    "    # there's some result from asyncio.sleep\n",
    " \n",
    "    yield from asyncio.sleep(1)\n",
    " \n",
    "    # our task is done, here's the result\n",
    "    return 'Future is done!'\n",
    " \n",
    " \n",
    "def got_result(future):\n",
    "    print(future.result())\n",
    " \n",
    " \n",
    "# Our main event loop\n",
    "loop = asyncio.get_event_loop()\n",
    " \n",
    "# We create a task from a coroutine\n",
    "task = loop.create_task(slow_operation())\n",
    " \n",
    "# Please notify us when the task is complete\n",
    "task.add_done_callback(got_result)\n",
    " \n",
    "# The loop will close when the task has resolved\n",
    "loop.run_until_complete(task)"
   ]
  },
  {
   "cell_type": "code",
   "execution_count": null,
   "metadata": {},
   "outputs": [],
   "source": [
    "import asyncio\n",
    " \n",
    " \n",
    "async def slow_operation():\n",
    "    await asyncio.sleep(1)\n",
    "    return 'Future is done!'\n",
    " \n",
    " \n",
    "def got_result(future):\n",
    "    print(future.result())\n",
    " \n",
    "    # We have result, so let's stop\n",
    "    loop.stop()\n",
    " \n",
    " \n",
    "loop = asyncio.get_event_loop()\n",
    "task = loop.create_task(slow_operation())\n",
    "task.add_done_callback(got_result)\n",
    " \n",
    "# We run forever\n",
    "loop.run_forever()"
   ]
  },
  {
   "cell_type": "markdown",
   "metadata": {},
   "source": [
    "# Callback Style Async"
   ]
  },
  {
   "cell_type": "markdown",
   "metadata": {},
   "source": [
    "While many asynchronous libraries exist in Python, the most popular ones are probably Tornado and gevent. As we have already talked about gevent, lets focus a little on how Tornado works. Tornado is an asynchronous web framework that uses the callback style to do asynchronous network I/O. A callback is a function, and it means “Once this is done, execute this function”. It’s basically a “when done” hook for your code. In other words a callback is like when you call a customer service line, and immediately leave your number and hang up, so they can call you back when they are available, rather than having to wait on hold forever."
   ]
  },
  {
   "cell_type": "code",
   "execution_count": null,
   "metadata": {},
   "outputs": [],
   "source": [
    "import tornado.ioloop\n",
    "from tornado.httpclient import AsyncHTTPClient\n",
    "urls = ['http://www.google.com', 'http://www.yandex.ru', 'http://www.python.org']\n",
    "\n",
    "def handle_response(response):\n",
    "    if response.error:\n",
    "        print(\"Error:\", response.error)\n",
    "    else:\n",
    "        url = response.request.url\n",
    "        data = response.body\n",
    "        print('{}: {} bytes: {}'.format(url, len(data), data))\n",
    "\n",
    "http_client = AsyncHTTPClient()\n",
    "for url in urls:\n",
    "    http_client.fetch(url, handle_response)\n",
    "    \n",
    "tornado.ioloop.IOLoop.instance().start()"
   ]
  },
  {
   "cell_type": "markdown",
   "metadata": {},
   "source": [
    "## Green Threads"
   ]
  },
  {
   "cell_type": "markdown",
   "metadata": {},
   "source": [
    "Green threads are a primitive level of asynchronous programming. A green thread looks and feels exactly like a normal thread, except that the threads are scheduled by application code rather than by hardware. Gevent is a well known python library for using green threads. Gevent is basically green threads + eventlet, a non-blocking I/O networking library. Gevent monkey patches common python libraries to have non-blocking I/O. Here is an example using gevents to make requests to multiple urls at once:\n"
   ]
  },
  {
   "cell_type": "code",
   "execution_count": null,
   "metadata": {},
   "outputs": [
    {
     "name": "stdout",
     "output_type": "stream",
     "text": [
      "Loop: 1 Time: 2019-02-05 10:01:56.400470\n",
      "Loop: 2 Time: 2019-02-05 10:01:56.400565\n",
      "Loop: 2 Time: 2019-02-05 10:01:56.401550\n",
      "Loop: 1 Time: 2019-02-05 10:01:57.402295\n",
      "Loop: 1 Time: 2019-02-05 10:01:59.403401\n",
      "Loop: 2 Time: 2019-02-05 10:02:01.403100\n",
      "Loop: 2 Time: 2019-02-05 10:02:02.404516\n",
      "Loop: 1 Time: 2019-02-05 10:02:03.404795\n",
      "Loop: 1 Time: 2019-02-05 10:02:03.405431\n",
      "Loop: 1 Time: 2019-02-05 10:02:06.408770\n",
      "Loop: 1 Time: 2019-02-05 10:02:06.409114\n",
      "Loop: 2 Time: 2019-02-05 10:02:07.406299\n",
      "Loop: 1 Time: 2019-02-05 10:02:09.409778\n",
      "Loop: 2 Time: 2019-02-05 10:02:10.408001\n",
      "Loop: 2 Time: 2019-02-05 10:02:12.410541\n",
      "Loop: 1 Time: 2019-02-05 10:02:12.410658\n",
      "Loop: 1 Time: 2019-02-05 10:02:12.410726\n",
      "Loop: 2 Time: 2019-02-05 10:02:15.414111\n",
      "Loop: 2 Time: 2019-02-05 10:02:16.415630\n",
      "Loop: 2 Time: 2019-02-05 10:02:16.415719\n",
      "Loop: 1 Time: 2019-02-05 10:02:17.413183\n",
      "Loop: 2 Time: 2019-02-05 10:02:18.418103\n",
      "Loop: 1 Time: 2019-02-05 10:02:20.416714\n",
      "Loop: 2 Time: 2019-02-05 10:02:21.421926\n",
      "Loop: 1 Time: 2019-02-05 10:02:25.419021\n",
      "Loop: 2 Time: 2019-02-05 10:02:26.424315\n",
      "Loop: 2 Time: 2019-02-05 10:02:29.424701\n",
      "Loop: 1 Time: 2019-02-05 10:02:30.420652\n",
      "Loop: 1 Time: 2019-02-05 10:02:31.422034\n",
      "Loop: 2 Time: 2019-02-05 10:02:32.427321\n",
      "Loop: 1 Time: 2019-02-05 10:02:35.425641\n",
      "Loop: 1 Time: 2019-02-05 10:02:35.426153\n",
      "Loop: 2 Time: 2019-02-05 10:02:35.428627\n",
      "Loop: 2 Time: 2019-02-05 10:02:36.429735\n",
      "Loop: 2 Time: 2019-02-05 10:02:37.431044\n",
      "Loop: 2 Time: 2019-02-05 10:02:38.432258\n",
      "Loop: 1 Time: 2019-02-05 10:02:40.428561\n",
      "Loop: 2 Time: 2019-02-05 10:02:43.436172\n",
      "Loop: 1 Time: 2019-02-05 10:02:45.430975\n",
      "Loop: 2 Time: 2019-02-05 10:02:45.437414\n"
     ]
    }
   ],
   "source": [
    "import gevent.monkey\n",
    "from urllib.request import urlopen\n",
    "gevent.monkey.patch_all()\n",
    "urls = ['http://www.google.com', 'http://www.yandex.ru', 'http://www.python.org']\n",
    "\n",
    "def print_head(url):\n",
    "    print('Starting {}'.format(url))\n",
    "    data = urlopen(url).read()\n",
    "    print('{}: {} bytes: {}'.format(url, len(data), data))\n",
    "\n",
    "jobs = [gevent.spawn(print_head, _url) for _url in urls]\n",
    "\n",
    "gevent.wait(jobs)"
   ]
  },
  {
   "cell_type": "markdown",
   "metadata": {},
   "source": [
    "## Comparisons\n",
    "**Green Threads Style**\n",
    "* Threads are controlled at the application level, rather than hardware\n",
    "* Feel like threads; Good for those who understand threading\n",
    "* Includes all the problems of normal thread-based programming other than CPU context switching\n",
    "\n",
    "**Callback Style**\n",
    "* Not like threaded programs at all\n",
    "* Threads/coroutines are invisible to the programmer\n",
    "* Callbacks swallow exceptions\n",
    "* Callbacks are not gather-able\n",
    "* Callback after callback gets confusing and hard to debug"
   ]
  },
  {
   "cell_type": "code",
   "execution_count": null,
   "metadata": {},
   "outputs": [],
   "source": []
  }
 ],
 "metadata": {
  "kernelspec": {
   "display_name": "Python 3",
   "language": "python",
   "name": "python3"
  },
  "language_info": {
   "codemirror_mode": {
    "name": "ipython",
    "version": 3
   },
   "file_extension": ".py",
   "mimetype": "text/x-python",
   "name": "python",
   "nbconvert_exporter": "python",
   "pygments_lexer": "ipython3",
   "version": "3.6.5"
  }
 },
 "nbformat": 4,
 "nbformat_minor": 2
}
