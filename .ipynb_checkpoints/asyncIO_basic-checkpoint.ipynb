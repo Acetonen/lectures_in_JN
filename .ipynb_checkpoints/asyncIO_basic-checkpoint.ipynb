{
 "cells": [
  {
   "cell_type": "markdown",
   "metadata": {},
   "source": [
    "## Threads, loops, coroutines and futures"
   ]
  },
  {
   "cell_type": "markdown",
   "metadata": {},
   "source": [
    "Threads are a common tool and most developers have heard of and used before. However asyncio uses quite different constructs: event loops, coroutines and futures.\n",
    "\n",
    "* An event loop essentially manages and distributes the execution of different tasks. It registers them and handles distributing the flow of control between them.\n",
    "* Coroutines are special functions that work similarly to Python generators, on await they release the flow of control back to the event loop. A coroutine needs to be scheduled to run on the event loop, once scheduled coroutines are wrapped in Tasks which is a type of Future.\n",
    "* Futures are objects that represent the result of a task that may or may not have been executed. This result may be an exception.\n"
   ]
  },
  {
   "cell_type": "code",
   "execution_count": null,
   "metadata": {},
   "outputs": [],
   "source": [
    "import asyncio\n",
    "\n",
    "\n",
    "async def foo():\n",
    "    print('Running in foo')\n",
    "    await asyncio.sleep(0)\n",
    "    print('Explicit context switch to foo again')\n",
    "\n",
    "\n",
    "async def bar():\n",
    "    print('Explicit context to bar')\n",
    "    await asyncio.sleep(0)\n",
    "    print('Implicit context switch back to bar')\n",
    "\n",
    "\n",
    "async def main():\n",
    "    tasks = [foo(), bar()]\n",
    "    await asyncio.gather(*tasks)\n",
    "\n",
    "\n",
    "asyncio.run(main())"
   ]
  },
  {
   "cell_type": "raw",
   "metadata": {},
   "source": [
    "$ python 1-sync-async-execution.py\n",
    "Running in foo\n",
    "Explicit context to bar\n",
    "Explicit context switch to foo again\n",
    "Implicit context switch back to bar"
   ]
  },
  {
   "cell_type": "markdown",
   "metadata": {},
   "source": [
    "* First we declare a couple of simple coroutines that pretend to do non-blocking work using the sleep function in asyncio.\n",
    "Then we create an entry point coroutine from which we combine the previous coroutines using gather to wait for both of them to complete. There’s a bit more to gather than that but we’ll ignore it for now.\n",
    "* And finally we schedule our entry point coroutine using asyncio.run, which will take care of creating an event loop and scheduling our entry point coroutine. "
   ]
  },
  {
   "cell_type": "code",
   "execution_count": null,
   "metadata": {},
   "outputs": [],
   "source": [
    "import time\n",
    "import asyncio\n",
    "\n",
    "start = time.time()\n",
    "\n",
    "\n",
    "def tic():\n",
    "    return 'at %1.1f seconds' % (time.time() - start)\n",
    "\n",
    "\n",
    "async def gr1():\n",
    "    # Busy waits for a second, but we don't want to stick around...\n",
    "    print('gr1 started work: {}'.format(tic()))\n",
    "    await asyncio.sleep(2)\n",
    "    print('gr1 ended work: {}'.format(tic()))\n",
    "\n",
    "\n",
    "async def gr2():\n",
    "    # Busy waits for a second, but we don't want to stick around...\n",
    "    print('gr2 started work: {}'.format(tic()))\n",
    "    await asyncio.sleep(2)\n",
    "    print('gr2 Ended work: {}'.format(tic()))\n",
    "\n",
    "\n",
    "async def gr3():\n",
    "    print(\"Let's do some stuff while the coroutines are blocked, {}\".format(tic()))\n",
    "    await asyncio.sleep(1)\n",
    "    print(\"Done!\")\n",
    "\n",
    "\n",
    "async def main():\n",
    "    tasks = [gr1(), gr2(), gr3()]\n",
    "    await asyncio.gather(*tasks)\n",
    "    \n",
    "\n",
    "asyncio.run(main())"
   ]
  },
  {
   "cell_type": "raw",
   "metadata": {},
   "source": [
    "$ python 1b-cooperatively-scheduled.py\n",
    "gr1 started work: at 0.0 seconds\n",
    "gr2 started work: at 0.0 seconds\n",
    "Let's do some stuff while the coroutines are blocked, at 0.0 seconds\n",
    "Done!\n",
    "gr1 ended work: at 2.0 seconds\n",
    "gr2 Ended work: at 2.0 seconds"
   ]
  },
  {
   "cell_type": "code",
   "execution_count": null,
   "metadata": {},
   "outputs": [],
   "source": [
    "import random\n",
    "from time import sleep\n",
    "import asyncio\n",
    "\n",
    "\n",
    "def task(pid):\n",
    "    \"\"\"Synchronous non-deterministic task.\"\"\"\n",
    "    sleep(random.randint(0, 2) * 0.001)\n",
    "    print('Task %s done' % pid)\n",
    "\n",
    "\n",
    "async def task_coro(pid):\n",
    "    \"\"\"Coroutine non-deterministic task\"\"\"\n",
    "    await asyncio.sleep(random.randint(0, 2) * 0.001)\n",
    "    print('Task %s done' % pid)\n",
    "\n",
    "\n",
    "def synchronous():\n",
    "    for i in range(1, 10):\n",
    "        task(i)\n",
    "\n",
    "\n",
    "async def asynchronous():\n",
    "    tasks = [task_coro(i) for i in range(1, 10)]\n",
    "    await asyncio.gather(*tasks)\n",
    "\n",
    "\n",
    "print('Synchronous:')\n",
    "synchronous()\n",
    "\n",
    "print('Asynchronous:')\n",
    "asyncio.run(asynchronous())"
   ]
  },
  {
   "cell_type": "raw",
   "metadata": {},
   "source": [
    "$ python 1c-determinism-sync-async.py\n",
    "Synchronous:\n",
    "Task 1 done\n",
    "Task 2 done\n",
    "Task 3 done\n",
    "Task 4 done\n",
    "Task 5 done\n",
    "Task 6 done\n",
    "Task 7 done\n",
    "Task 8 done\n",
    "Task 9 done\n",
    "Asynchronous:\n",
    "Task 4 done\n",
    "Task 9 done\n",
    "Task 2 done\n",
    "Task 3 done\n",
    "Task 5 done\n",
    "Task 6 done\n",
    "Task 8 done\n",
    "Task 1 done\n",
    "Task 7 done"
   ]
  },
  {
   "cell_type": "markdown",
   "metadata": {},
   "source": [
    "## Creating concurrency"
   ]
  },
  {
   "cell_type": "markdown",
   "metadata": {},
   "source": [
    "But coroutines can be scheduled to run or retrieve their results in different ways. Imagine a scenario where we need to process the results of the HTTP GET requests as soon as they arrive, the process is actually quite similar than in our previous example:"
   ]
  },
  {
   "cell_type": "code",
   "execution_count": null,
   "metadata": {},
   "outputs": [],
   "source": [
    "import time\n",
    "import random\n",
    "import asyncio\n",
    "import aiohttp\n",
    "\n",
    "URL = 'https://api.github.com/events'\n",
    "MAX_CLIENTS = 3\n",
    "\n",
    "\n",
    "async def aiohttp_get(url):\n",
    "    async with aiohttp.ClientSession() as session:\n",
    "        async with session.get(url) as response:\n",
    "            return response\n",
    "\n",
    "\n",
    "async def fetch_async(pid):\n",
    "    start = time.time()\n",
    "    sleepy_time = random.randint(2, 5)\n",
    "    print('Fetch async process {} started, sleeping for {} seconds'.format(\n",
    "        pid, sleepy_time))\n",
    "\n",
    "    await asyncio.sleep(sleepy_time)\n",
    "\n",
    "    response = await aiohttp_get(URL)\n",
    "    datetime = response.headers.get('Date')\n",
    "\n",
    "    response.close()\n",
    "    return 'Process {}: {}, took: {:.2f} seconds'.format(\n",
    "        pid, datetime, time.time() - start)\n",
    "\n",
    "\n",
    "async def main():\n",
    "    start = time.time()\n",
    "    futures = [fetch_async(i) for i in range(1, MAX_CLIENTS + 1)]\n",
    "    for i, future in enumerate(asyncio.as_completed(futures)):\n",
    "        result = await future\n",
    "        print('{} {}'.format(\">>\" * (i + 1), result))\n",
    "\n",
    "    print(\"Process took: {:.2f} seconds\".format(time.time() - start))\n",
    "\n",
    "\n",
    "asyncio.run(main())"
   ]
  },
  {
   "cell_type": "markdown",
   "metadata": {},
   "source": [
    "The code in this case is only slightly different, we’re gathering the coroutines into a list, each of them ready to be scheduled and executed. The **as_completed** function returns an iterator that will yield a completed future as they come in. Now don’t tell me that’s not cool. By the way, **as_completed** is originally from the **concurrent.futures module.**"
   ]
  },
  {
   "cell_type": "code",
   "execution_count": null,
   "metadata": {},
   "outputs": [],
   "source": [
    "from collections import namedtuple\n",
    "import time\n",
    "import asyncio\n",
    "from concurrent.futures import FIRST_COMPLETED\n",
    "import aiohttp\n",
    "\n",
    "Service = namedtuple('Service', ('name', 'url', 'ip_attr'))\n",
    "\n",
    "SERVICES = (\n",
    "    Service('ipify', 'https://api.ipify.org?format=json', 'ip'),\n",
    "    Service('ip-api', 'http://ip-api.com/json', 'query')\n",
    ")\n",
    "\n",
    "\n",
    "async def aiohttp_get_json(url):\n",
    "    async with aiohttp.ClientSession() as session:\n",
    "        async with session.get(url) as response:\n",
    "            return await response.json()\n",
    "\n",
    "\n",
    "async def fetch_ip(service):\n",
    "    start = time.time()\n",
    "    print('Fetching IP from {}'.format(service.name))\n",
    "\n",
    "    json_response = await aiohttp_get_json(service.url)\n",
    "    ip = json_response[service.ip_attr]\n",
    "\n",
    "    return '{} finished with result: {}, took: {:.2f} seconds'.format(\n",
    "        service.name, ip, time.time() - start)\n",
    "\n",
    "\n",
    "async def main():\n",
    "    futures = [fetch_ip(service) for service in SERVICES]\n",
    "    done, pending = await asyncio.wait(\n",
    "        futures, return_when=FIRST_COMPLETED)\n",
    "\n",
    "    print(done.pop().result())\n",
    "\n",
    "\n",
    "ioloop = asyncio.get_event_loop()\n",
    "ioloop.run_until_complete(main())\n",
    "ioloop.close()"
   ]
  },
  {
   "cell_type": "raw",
   "metadata": {},
   "source": [
    "$ python 2b-fetch-first-ip-address-response-await.py\n",
    "Fetching IP from ip-api\n",
    "Fetching IP from ipify\n",
    "ip-api finished with result: 81.106.46.223, took: 0.10 seconds\n",
    "Task was destroyed but it is pending!\n",
    "task: <Task pending coro=<fetch_ip() done, defined at 2b-fetch-first-ip-address-response-await.py:21> wait_for=<Future pending cb=[BaseSelectorEventLoop._sock_connect_done(10)(), <TaskWakeupMethWrapper object at 0x10c11cd38>()]>>"
   ]
  },
  {
   "cell_type": "markdown",
   "metadata": {},
   "source": [
    "Well, we scheduled two tasks but once the first one completed the closed the loop leaving the second one pending. Asyncio assumes that’s a bug and prints out a warning. We really should clean up after ourselves and let the event loop know not to bother with the pending futures. How? Glad you asked."
   ]
  },
  {
   "cell_type": "markdown",
   "metadata": {},
   "source": [
    "### Future states\n",
    "(As in states that a Future can be in, not states that are in the future… you know what I mean)\n",
    "\n",
    "These are:\n",
    "\n",
    "* Pending\n",
    "* Running\n",
    "* Done\n",
    "* Cancelled"
   ]
  },
  {
   "cell_type": "code",
   "execution_count": null,
   "metadata": {},
   "outputs": [],
   "source": [
    "# Before Python 3.7\n",
    "loop = asyncio.get_event_loop()\n",
    "loop.run_until_complete(some_async_task())\n",
    "loop.close()\n",
    "\n",
    "# After Python 3.7\n",
    "asyncio.run(some_async_task())"
   ]
  },
  {
   "cell_type": "markdown",
   "metadata": {},
   "source": [
    "with python's 3.7 **ayncio.run():**"
   ]
  },
  {
   "cell_type": "code",
   "execution_count": null,
   "metadata": {},
   "outputs": [],
   "source": [
    "from collections import namedtuple\n",
    "import time\n",
    "import asyncio\n",
    "from concurrent.futures import FIRST_COMPLETED\n",
    "import aiohttp\n",
    "\n",
    "Service = namedtuple('Service', ('name', 'url', 'ip_attr'))\n",
    "\n",
    "SERVICES = (\n",
    "    Service('ipify', 'https://api.ipify.org?format=json', 'ip'),\n",
    "    Service('ip-api', 'http://ip-api.com/json', 'query')\n",
    ")\n",
    "\n",
    "\n",
    "async def aiohttp_get_json(url):\n",
    "    async with aiohttp.ClientSession() as session:\n",
    "        async with session.get(url) as response:\n",
    "            return await response.json()\n",
    "\n",
    "\n",
    "async def fetch_ip(service):\n",
    "    start = time.time()\n",
    "    print('Fetching IP from {}'.format(service.name))\n",
    "\n",
    "    json_response = await aiohttp_get_json(service.url)\n",
    "    ip = json_response[service.ip_attr]\n",
    "\n",
    "    return '{} finished with result: {}, took: {:.2f} seconds'.format(\n",
    "        service.name, ip, time.time() - start)\n",
    "\n",
    "\n",
    "async def main():\n",
    "    futures = [fetch_ip(service) for service in SERVICES]\n",
    "    done, pending = await asyncio.wait(\n",
    "        futures, return_when=FIRST_COMPLETED)\n",
    "\n",
    "    print(done.pop().result())\n",
    "\n",
    "\n",
    "asyncio.run(main())"
   ]
  },
  {
   "cell_type": "raw",
   "metadata": {},
   "source": [
    "$ python 2c-fetch-first-ip-address-response-no-warning.py\n",
    "Fetching IP from ip-api\n",
    "Fetching IP from ipify\n",
    "ip-api finished with result: 81.106.46.223, took: 0.12 seconds"
   ]
  }
 ],
 "metadata": {
  "kernelspec": {
   "display_name": "Python 3",
   "language": "python",
   "name": "python3"
  },
  "language_info": {
   "codemirror_mode": {
    "name": "ipython",
    "version": 3
   },
   "file_extension": ".py",
   "mimetype": "text/x-python",
   "name": "python",
   "nbconvert_exporter": "python",
   "pygments_lexer": "ipython3",
   "version": "3.7.0b4"
  }
 },
 "nbformat": 4,
 "nbformat_minor": 2
}
