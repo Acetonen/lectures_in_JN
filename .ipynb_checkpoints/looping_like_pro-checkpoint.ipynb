{
 "cells": [
  {
   "cell_type": "code",
   "execution_count": 20,
   "metadata": {},
   "outputs": [],
   "source": [
    "class Person:\n",
    "    def __init__(self, name, antisocial=False):\n",
    "        self.name = name\n",
    "        self.antisocial = antisocial\n",
    "    def greet(self, another_person):\n",
    "        print(f\"{self.name} greet {another_person.name}\")\n",
    "    def is_antisocial(self):\n",
    "        if self.antisocial:\n",
    "            return True\n",
    "        \n",
    "bob = Person('Bob', True)\n",
    "john = Person('John')\n",
    "mike = Person('Mike')\n",
    "sally = Person('Sally')\n",
    "\n",
    "def bad_match(per1, per2):\n",
    "    vs = ('John', 'Sally')\n",
    "    if per1.name == vs[0] and per2.name == vs[1]:\n",
    "        return True\n",
    "    \n",
    "group = [bob, john, mike, sally]"
   ]
  },
  {
   "cell_type": "code",
   "execution_count": 15,
   "metadata": {},
   "outputs": [
    {
     "name": "stdout",
     "output_type": "stream",
     "text": [
      "Bob greet Bob\n",
      "Bob greet John\n",
      "Bob greet Mike\n",
      "Bob greet Sally\n",
      "John greet Bob\n",
      "John greet John\n",
      "John greet Mike\n",
      "John greet Sally\n",
      "Mike greet Bob\n",
      "Mike greet John\n",
      "Mike greet Mike\n",
      "Mike greet Sally\n",
      "Sally greet Bob\n",
      "Sally greet John\n",
      "Sally greet Mike\n",
      "Sally greet Sally\n"
     ]
    }
   ],
   "source": [
    "# Stupid\n",
    "for person1 in group:\n",
    "    for person2 in group:\n",
    "        person1.greet(person2)"
   ]
  },
  {
   "cell_type": "code",
   "execution_count": 16,
   "metadata": {},
   "outputs": [
    {
     "name": "stdout",
     "output_type": "stream",
     "text": [
      "Bob greet John\n",
      "Bob greet Mike\n",
      "Bob greet Sally\n",
      "John greet Bob\n",
      "John greet Mike\n",
      "John greet Sally\n",
      "Mike greet Bob\n",
      "Mike greet John\n",
      "Mike greet Sally\n",
      "Sally greet Bob\n",
      "Sally greet John\n",
      "Sally greet Mike\n"
     ]
    }
   ],
   "source": [
    "for person1 in group:\n",
    "    for person2 in group:\n",
    "        if person1 == person2:  # Person can't greed himself.\n",
    "            continue\n",
    "        person1.greet(person2)"
   ]
  },
  {
   "cell_type": "code",
   "execution_count": 17,
   "metadata": {},
   "outputs": [
    {
     "name": "stdout",
     "output_type": "stream",
     "text": [
      "John greet Bob\n",
      "John greet Mike\n",
      "John greet Sally\n",
      "Mike greet Bob\n",
      "Mike greet John\n",
      "Mike greet Sally\n",
      "Sally greet Bob\n",
      "Sally greet John\n",
      "Sally greet Mike\n"
     ]
    }
   ],
   "source": [
    "for person1 in group:\n",
    "    if person1.is_antisocial():  # antisocial person\n",
    "        continue\n",
    "    for person2 in group:\n",
    "        if person1 == person2:\n",
    "            continue\n",
    "        person1.greet(person2)"
   ]
  },
  {
   "cell_type": "code",
   "execution_count": 24,
   "metadata": {},
   "outputs": [
    {
     "name": "stdout",
     "output_type": "stream",
     "text": [
      "John greet Bob\n",
      "John greet Mike\n",
      "Mike greet Bob\n",
      "Mike greet John\n",
      "Mike greet Sally\n",
      "Sally greet Bob\n",
      "Sally greet John\n",
      "Sally greet Mike\n"
     ]
    }
   ],
   "source": [
    "for person1 in group:\n",
    "    if person1.is_antisocial():\n",
    "        continue\n",
    "    for person2 in group: #  stop only this loop\n",
    "        if person1 == person2:\n",
    "            continue\n",
    "        if bad_match(person1, person2): # must stop all communications\n",
    "            break\n",
    "        person1.greet(person2)"
   ]
  },
  {
   "cell_type": "markdown",
   "metadata": {},
   "source": [
    "### Need to separe iteration logic from loop body.\n",
    "### Use Generators."
   ]
  },
  {
   "cell_type": "code",
   "execution_count": 33,
   "metadata": {},
   "outputs": [],
   "source": [
    "def pairs(group):\n",
    "    for person1 in group:\n",
    "        if person1.is_antisocial():\n",
    "            continue\n",
    "        for person2 in group:\n",
    "            if person1 == person2:\n",
    "                continue\n",
    "            if bad_match(person1, person2):\n",
    "                return\n",
    "            yield person1, person2"
   ]
  },
  {
   "cell_type": "code",
   "execution_count": 34,
   "metadata": {},
   "outputs": [
    {
     "name": "stdout",
     "output_type": "stream",
     "text": [
      "John greet Bob\n",
      "John greet Mike\n"
     ]
    }
   ],
   "source": [
    "for person1, person2 in pairs(group):\n",
    "    person1.greet(person2)"
   ]
  },
  {
   "cell_type": "code",
   "execution_count": null,
   "metadata": {},
   "outputs": [],
   "source": []
  }
 ],
 "metadata": {
  "kernelspec": {
   "display_name": "Python 3",
   "language": "python",
   "name": "python3"
  },
  "language_info": {
   "codemirror_mode": {
    "name": "ipython",
    "version": 3
   },
   "file_extension": ".py",
   "mimetype": "text/x-python",
   "name": "python",
   "nbconvert_exporter": "python",
   "pygments_lexer": "ipython3",
   "version": "3.6.5"
  }
 },
 "nbformat": 4,
 "nbformat_minor": 2
}
