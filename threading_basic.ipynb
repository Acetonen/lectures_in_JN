{
 "cells": [
  {
   "cell_type": "markdown",
   "metadata": {},
   "source": [
    "# Threading"
   ]
  },
  {
   "cell_type": "markdown",
   "metadata": {},
   "source": [
    "### Argument to thread"
   ]
  },
  {
   "cell_type": "code",
   "execution_count": 7,
   "metadata": {},
   "outputs": [
    {
     "name": "stdout",
     "output_type": "stream",
     "text": [
      "Worker: 0\n",
      "Worker: 1\n",
      "Worker: 2\n",
      "Worker: 3\n",
      "Worker: 4\n"
     ]
    }
   ],
   "source": [
    "# threading_simple.py\n",
    "import threading\n",
    "\n",
    "\n",
    "def worker(num):\n",
    "    \"\"\"thread worker function\"\"\"\n",
    "    print('Worker: %s' % num)\n",
    "\n",
    "\n",
    "threads = []\n",
    "for i in range(5):\n",
    "    t = threading.Thread(target=worker, args=(i,))\n",
    "    threads.append(t)\n",
    "    t.start()"
   ]
  },
  {
   "cell_type": "markdown",
   "metadata": {},
   "source": [
    "### Determining the Current Thread"
   ]
  },
  {
   "cell_type": "markdown",
   "metadata": {},
   "source": [
    "Using arguments to identify or name the thread is cumbersome and unnecessary. Each Thread instance has a name with a default value that can be changed as the thread is created. Naming threads is useful in server processes with multiple service threads handling different operations."
   ]
  },
  {
   "cell_type": "code",
   "execution_count": 8,
   "metadata": {},
   "outputs": [
    {
     "name": "stdout",
     "output_type": "stream",
     "text": [
      "worker Starting\n",
      "Thread-17 Starting\n",
      "my_service Starting\n",
      "worker Exiting\n",
      "Thread-17 Exiting\n",
      "my_service Exiting\n"
     ]
    }
   ],
   "source": [
    "# threading_names.py\n",
    "import threading\n",
    "import time\n",
    "\n",
    "\n",
    "def worker():\n",
    "    print(threading.current_thread().getName(), 'Starting')\n",
    "    time.sleep(0.2)\n",
    "    print(threading.current_thread().getName(), 'Exiting')\n",
    "\n",
    "\n",
    "def my_service():\n",
    "    print(threading.current_thread().getName(), 'Starting')\n",
    "    time.sleep(0.3)\n",
    "    print(threading.current_thread().getName(), 'Exiting')\n",
    "\n",
    "\n",
    "t = threading.Thread(name='my_service', target=my_service)\n",
    "w = threading.Thread(name='worker', target=worker)\n",
    "w2 = threading.Thread(target=worker)  # use default name\n",
    "\n",
    "w.start()\n",
    "w2.start()\n",
    "t.start()"
   ]
  },
  {
   "cell_type": "markdown",
   "metadata": {},
   "source": [
    "### Logging threads"
   ]
  },
  {
   "cell_type": "code",
   "execution_count": 9,
   "metadata": {},
   "outputs": [
    {
     "name": "stderr",
     "output_type": "stream",
     "text": [
      "[DEBUG] (worker    ) Starting\n",
      "[DEBUG] (Thread-18 ) Starting\n",
      "[DEBUG] (my_service) Starting\n",
      "[DEBUG] (worker    ) Exiting\n",
      "[DEBUG] (Thread-18 ) Exiting\n",
      "[DEBUG] (my_service) Exiting\n"
     ]
    }
   ],
   "source": [
    "# threading_names_log.py\n",
    "import logging\n",
    "import threading\n",
    "import time\n",
    "\n",
    "\n",
    "def worker():\n",
    "    logging.debug('Starting')\n",
    "    time.sleep(0.2)\n",
    "    logging.debug('Exiting')\n",
    "\n",
    "    \n",
    "def my_service():\n",
    "    logging.debug('Starting')\n",
    "    time.sleep(0.3)\n",
    "    logging.debug('Exiting')\n",
    "\n",
    "    \n",
    "logging.basicConfig(\n",
    "    level=logging.DEBUG,\n",
    "    format='[%(levelname)s] (%(threadName)-10s) %(message)s',\n",
    ")\n",
    "\n",
    "t = threading.Thread(name='my_service', target=my_service)\n",
    "w = threading.Thread(name='worker', target=worker)\n",
    "w2 = threading.Thread(target=worker)  # use default name\n",
    "\n",
    "w.start()\n",
    "w2.start()\n",
    "t.start()"
   ]
  },
  {
   "cell_type": "markdown",
   "metadata": {},
   "source": [
    "### Daemon vs. Non-Daemon Threads"
   ]
  },
  {
   "cell_type": "markdown",
   "metadata": {},
   "source": [
    "Up to this point, the example programs have implicitly waited to exit until all threads have completed their work. Sometimes programs spawn a thread as a daemon that runs without blocking the main program from exiting. Using daemon threads is useful for services where there may not be an easy way to interrupt the thread, or where letting the thread die in the middle of its work does not lose or corrupt data (for example, a thread that generates “heart beats” for a service monitoring tool). To mark a thread as a daemon, pass daemon=True when constructing it or call its set_daemon() method with True. The default is for threads to not be daemons."
   ]
  },
  {
   "cell_type": "code",
   "execution_count": 10,
   "metadata": {},
   "outputs": [
    {
     "name": "stderr",
     "output_type": "stream",
     "text": [
      "[DEBUG] (daemon    ) Starting\n",
      "[DEBUG] (non-daemon) Starting\n",
      "[DEBUG] (non-daemon) Exiting\n",
      "[DEBUG] (daemon    ) Exiting\n"
     ]
    }
   ],
   "source": [
    "# threading_daemon.py\n",
    "import threading\n",
    "import time\n",
    "import logging\n",
    "\n",
    "\n",
    "def daemon():\n",
    "    logging.debug('Starting')\n",
    "    time.sleep(2)\n",
    "    logging.debug('Exiting')\n",
    "\n",
    "\n",
    "def non_daemon():\n",
    "    logging.debug('Starting')\n",
    "    logging.debug('Exiting')\n",
    "\n",
    "\n",
    "logging.basicConfig(\n",
    "    level=logging.DEBUG,\n",
    "    format='(%(threadName)-10s) %(message)s',\n",
    ")\n",
    "\n",
    "d = threading.Thread(name='daemon', target=daemon, daemon=True)\n",
    "\n",
    "t = threading.Thread(name='non-daemon', target=non_daemon)\n",
    "\n",
    "d.start()\n",
    "t.start()"
   ]
  },
  {
   "cell_type": "markdown",
   "metadata": {},
   "source": [
    "To wait until a daemon thread has completed its work, use the join() method.\n",
    "\n"
   ]
  },
  {
   "cell_type": "code",
   "execution_count": 11,
   "metadata": {},
   "outputs": [
    {
     "name": "stderr",
     "output_type": "stream",
     "text": [
      "[DEBUG] (daemon    ) Starting\n",
      "[DEBUG] (non-daemon) Starting\n",
      "[DEBUG] (non-daemon) Exiting\n",
      "[DEBUG] (daemon    ) Exiting\n"
     ]
    }
   ],
   "source": [
    "# threading_daemon_join.py\n",
    "import threading\n",
    "import time\n",
    "import logging\n",
    "\n",
    "\n",
    "def daemon():\n",
    "    logging.debug('Starting')\n",
    "    time.sleep(0.2)\n",
    "    logging.debug('Exiting')\n",
    "\n",
    "\n",
    "def non_daemon():\n",
    "    logging.debug('Starting')\n",
    "    logging.debug('Exiting')\n",
    "\n",
    "\n",
    "logging.basicConfig(\n",
    "    level=logging.DEBUG,\n",
    "    format='(%(threadName)-10s) %(message)s',\n",
    ")\n",
    "\n",
    "d = threading.Thread(name='daemon', target=daemon, daemon=True)\n",
    "\n",
    "t = threading.Thread(name='non-daemon', target=non_daemon)\n",
    "\n",
    "d.start()\n",
    "t.start()\n",
    "\n",
    "d.join()\n",
    "t.join()"
   ]
  },
  {
   "cell_type": "markdown",
   "metadata": {},
   "source": [
    "By default, join() blocks indefinitely. It is also possible to pass a float value representing the number of seconds to wait for the thread to become inactive. If the thread does not complete within the timeout period, join() returns anyway."
   ]
  },
  {
   "cell_type": "code",
   "execution_count": 13,
   "metadata": {},
   "outputs": [
    {
     "name": "stderr",
     "output_type": "stream",
     "text": [
      "[DEBUG] (daemon    ) Starting\n",
      "[DEBUG] (non-daemon) Starting\n",
      "[DEBUG] (non-daemon) Exiting\n"
     ]
    },
    {
     "name": "stdout",
     "output_type": "stream",
     "text": [
      "d.isAlive() True\n"
     ]
    },
    {
     "name": "stderr",
     "output_type": "stream",
     "text": [
      "[DEBUG] (daemon    ) Exiting\n"
     ]
    }
   ],
   "source": [
    "# threading_daemon_join_timeout.py\n",
    "import threading\n",
    "import time\n",
    "import logging\n",
    "\n",
    "\n",
    "def daemon():\n",
    "    logging.debug('Starting')\n",
    "    time.sleep(0.2)\n",
    "    logging.debug('Exiting')\n",
    "\n",
    "\n",
    "def non_daemon():\n",
    "    logging.debug('Starting')\n",
    "    logging.debug('Exiting')\n",
    "\n",
    "\n",
    "logging.basicConfig(\n",
    "    level=logging.DEBUG,\n",
    "    format='(%(threadName)-10s) %(message)s',\n",
    ")\n",
    "\n",
    "d = threading.Thread(name='daemon', target=daemon, daemon=True)\n",
    "\n",
    "t = threading.Thread(name='non-daemon', target=non_daemon)\n",
    "\n",
    "d.start()\n",
    "t.start()\n",
    "\n",
    "d.join(0.1)\n",
    "print('d.isAlive()', d.isAlive())\n",
    "t.join()"
   ]
  },
  {
   "cell_type": "markdown",
   "metadata": {},
   "source": [
    "## Enumerating All Threads¶"
   ]
  },
  {
   "cell_type": "markdown",
   "metadata": {},
   "source": [
    "It is not necessary to retain an explicit handle to all of the daemon threads in order to ensure they have completed before exiting the main process. enumerate() returns a list of active Thread instances. The list includes the current thread, and since joining the current thread introduces a deadlock situation, it must be skipped."
   ]
  },
  {
   "cell_type": "code",
   "execution_count": 25,
   "metadata": {},
   "outputs": [
    {
     "name": "stderr",
     "output_type": "stream",
     "text": [
      "[DEBUG] (Thread-37 ) sleeping 0.50\n",
      "[DEBUG] (Thread-38 ) sleeping 0.40\n",
      "[DEBUG] (Thread-39 ) sleeping 0.20\n",
      "[DEBUG] (MainThread) joining Thread-2\n",
      "[DEBUG] (Thread-39 ) ending\n",
      "[DEBUG] (Thread-38 ) ending\n",
      "[DEBUG] (Thread-37 ) ending\n"
     ]
    },
    {
     "ename": "KeyboardInterrupt",
     "evalue": "",
     "output_type": "error",
     "traceback": [
      "\u001b[0;31m---------------------------------------------------------------------------\u001b[0m",
      "\u001b[0;31mKeyboardInterrupt\u001b[0m                         Traceback (most recent call last)",
      "\u001b[0;32m<ipython-input-25-12fd56032689>\u001b[0m in \u001b[0;36m<module>\u001b[0;34m\u001b[0m\n\u001b[1;32m     28\u001b[0m         \u001b[0;32mcontinue\u001b[0m\u001b[0;34m\u001b[0m\u001b[0m\n\u001b[1;32m     29\u001b[0m     \u001b[0mlogging\u001b[0m\u001b[0;34m.\u001b[0m\u001b[0mdebug\u001b[0m\u001b[0;34m(\u001b[0m\u001b[0;34m'joining %s'\u001b[0m\u001b[0;34m,\u001b[0m \u001b[0mt\u001b[0m\u001b[0;34m.\u001b[0m\u001b[0mgetName\u001b[0m\u001b[0;34m(\u001b[0m\u001b[0;34m)\u001b[0m\u001b[0;34m)\u001b[0m\u001b[0;34m\u001b[0m\u001b[0m\n\u001b[0;32m---> 30\u001b[0;31m     \u001b[0mt\u001b[0m\u001b[0;34m.\u001b[0m\u001b[0mjoin\u001b[0m\u001b[0;34m(\u001b[0m\u001b[0;34m)\u001b[0m\u001b[0;34m\u001b[0m\u001b[0m\n\u001b[0m",
      "\u001b[0;32m/usr/lib/python3.6/threading.py\u001b[0m in \u001b[0;36mjoin\u001b[0;34m(self, timeout)\u001b[0m\n\u001b[1;32m   1054\u001b[0m \u001b[0;34m\u001b[0m\u001b[0m\n\u001b[1;32m   1055\u001b[0m         \u001b[0;32mif\u001b[0m \u001b[0mtimeout\u001b[0m \u001b[0;32mis\u001b[0m \u001b[0;32mNone\u001b[0m\u001b[0;34m:\u001b[0m\u001b[0;34m\u001b[0m\u001b[0m\n\u001b[0;32m-> 1056\u001b[0;31m             \u001b[0mself\u001b[0m\u001b[0;34m.\u001b[0m\u001b[0m_wait_for_tstate_lock\u001b[0m\u001b[0;34m(\u001b[0m\u001b[0;34m)\u001b[0m\u001b[0;34m\u001b[0m\u001b[0m\n\u001b[0m\u001b[1;32m   1057\u001b[0m         \u001b[0;32melse\u001b[0m\u001b[0;34m:\u001b[0m\u001b[0;34m\u001b[0m\u001b[0m\n\u001b[1;32m   1058\u001b[0m             \u001b[0;31m# the behavior of a negative timeout isn't documented, but\u001b[0m\u001b[0;34m\u001b[0m\u001b[0;34m\u001b[0m\u001b[0m\n",
      "\u001b[0;32m/usr/lib/python3.6/threading.py\u001b[0m in \u001b[0;36m_wait_for_tstate_lock\u001b[0;34m(self, block, timeout)\u001b[0m\n\u001b[1;32m   1070\u001b[0m         \u001b[0;32mif\u001b[0m \u001b[0mlock\u001b[0m \u001b[0;32mis\u001b[0m \u001b[0;32mNone\u001b[0m\u001b[0;34m:\u001b[0m  \u001b[0;31m# already determined that the C code is done\u001b[0m\u001b[0;34m\u001b[0m\u001b[0m\n\u001b[1;32m   1071\u001b[0m             \u001b[0;32massert\u001b[0m \u001b[0mself\u001b[0m\u001b[0;34m.\u001b[0m\u001b[0m_is_stopped\u001b[0m\u001b[0;34m\u001b[0m\u001b[0m\n\u001b[0;32m-> 1072\u001b[0;31m         \u001b[0;32melif\u001b[0m \u001b[0mlock\u001b[0m\u001b[0;34m.\u001b[0m\u001b[0macquire\u001b[0m\u001b[0;34m(\u001b[0m\u001b[0mblock\u001b[0m\u001b[0;34m,\u001b[0m \u001b[0mtimeout\u001b[0m\u001b[0;34m)\u001b[0m\u001b[0;34m:\u001b[0m\u001b[0;34m\u001b[0m\u001b[0m\n\u001b[0m\u001b[1;32m   1073\u001b[0m             \u001b[0mlock\u001b[0m\u001b[0;34m.\u001b[0m\u001b[0mrelease\u001b[0m\u001b[0;34m(\u001b[0m\u001b[0;34m)\u001b[0m\u001b[0;34m\u001b[0m\u001b[0m\n\u001b[1;32m   1074\u001b[0m             \u001b[0mself\u001b[0m\u001b[0;34m.\u001b[0m\u001b[0m_stop\u001b[0m\u001b[0;34m(\u001b[0m\u001b[0;34m)\u001b[0m\u001b[0;34m\u001b[0m\u001b[0m\n",
      "\u001b[0;31mKeyboardInterrupt\u001b[0m: "
     ]
    }
   ],
   "source": [
    "# threading_enumerate.py\n",
    "import random\n",
    "import threading\n",
    "import time\n",
    "import logging\n",
    "\n",
    "\n",
    "def worker():\n",
    "    \"\"\"thread worker function\"\"\"\n",
    "    pause = random.randint(1, 5) / 10\n",
    "    logging.debug('sleeping %0.2f', pause)\n",
    "    time.sleep(pause)\n",
    "    logging.debug('ending')\n",
    "\n",
    "\n",
    "logging.basicConfig(\n",
    "    level=logging.DEBUG,\n",
    "    format='(%(threadName)-10s) %(message)s',\n",
    ")\n",
    "\n",
    "for i in range(3):\n",
    "    t = threading.Thread(target=worker, daemon=True)\n",
    "    t.start()\n",
    "\n",
    "main_thread = threading.main_thread()\n",
    "for t in threading.enumerate():\n",
    "    if t is main_thread:\n",
    "        continue\n",
    "    logging.debug('joining %s', t.getName())\n",
    "    t.join()"
   ]
  },
  {
   "cell_type": "markdown",
   "metadata": {},
   "source": [
    "## Subclassing Thread"
   ]
  },
  {
   "cell_type": "markdown",
   "metadata": {},
   "source": [
    "At start-up, a Thread does some basic initialization and then calls its run() method, which calls the target function passed to the constructor. To create a subclass of Thread, override run() to do whatever is necessary."
   ]
  },
  {
   "cell_type": "code",
   "execution_count": 18,
   "metadata": {},
   "outputs": [
    {
     "name": "stderr",
     "output_type": "stream",
     "text": [
      "[DEBUG] (Thread-26 ) running\n",
      "[DEBUG] (Thread-27 ) running\n",
      "[DEBUG] (Thread-28 ) running\n",
      "[DEBUG] (Thread-29 ) running\n",
      "[DEBUG] (Thread-30 ) running\n"
     ]
    }
   ],
   "source": [
    "# threading_subclass.py\n",
    "import threading\n",
    "import logging\n",
    "\n",
    "\n",
    "class MyThread(threading.Thread):\n",
    "\n",
    "    def run(self):\n",
    "        logging.debug('running')\n",
    "\n",
    "\n",
    "logging.basicConfig(\n",
    "    level=logging.DEBUG,\n",
    "    format='(%(threadName)-10s) %(message)s',\n",
    ")\n",
    "\n",
    "for i in range(5):\n",
    "    t = MyThread()\n",
    "    t.start()"
   ]
  },
  {
   "cell_type": "markdown",
   "metadata": {},
   "source": [
    "## Timer Threads"
   ]
  },
  {
   "cell_type": "markdown",
   "metadata": {},
   "source": [
    "One example of a reason to subclass Thread is provided by Timer, also included in threading. A Timer starts its work after a delay, and can be canceled at any point within that delay time period."
   ]
  },
  {
   "cell_type": "code",
   "execution_count": 19,
   "metadata": {},
   "outputs": [
    {
     "name": "stderr",
     "output_type": "stream",
     "text": [
      "[DEBUG] (MainThread) starting timers\n",
      "[DEBUG] (MainThread) waiting before canceling t2\n",
      "[DEBUG] (MainThread) canceling t2\n",
      "[DEBUG] (MainThread) done\n",
      "[DEBUG] (t1        ) worker running\n"
     ]
    }
   ],
   "source": [
    "# threading_timer.py\n",
    "import threading\n",
    "import time\n",
    "import logging\n",
    "\n",
    "\n",
    "def delayed():\n",
    "    logging.debug('worker running')\n",
    "\n",
    "\n",
    "logging.basicConfig(\n",
    "    level=logging.DEBUG,\n",
    "    format='(%(threadName)-10s) %(message)s',\n",
    ")\n",
    "\n",
    "t1 = threading.Timer(0.3, delayed)\n",
    "t1.setName('t1')\n",
    "t2 = threading.Timer(0.3, delayed)\n",
    "t2.setName('t2')\n",
    "\n",
    "logging.debug('starting timers')\n",
    "t1.start()\n",
    "t2.start()\n",
    "\n",
    "logging.debug('waiting before canceling %s', t2.getName())\n",
    "time.sleep(0.2)\n",
    "logging.debug('canceling %s', t2.getName())\n",
    "t2.cancel()\n",
    "logging.debug('done')"
   ]
  },
  {
   "cell_type": "markdown",
   "metadata": {},
   "source": [
    "## Signaling Between Threads"
   ]
  },
  {
   "cell_type": "markdown",
   "metadata": {},
   "source": [
    "Although the point of using multiple threads is to run separate operations concurrently, there are times when it is important to be able to synchronize the operations in two or more threads. Event objects are a simple way to communicate between threads safely. An Event manages an internal flag that callers can control with the set() and clear() methods. Other threads can use wait() to pause until the flag is set, effectively blocking progress until allowed to continue."
   ]
  },
  {
   "cell_type": "code",
   "execution_count": 26,
   "metadata": {},
   "outputs": [
    {
     "name": "stderr",
     "output_type": "stream",
     "text": [
      "[DEBUG] (block     ) wait_for_event starting\n",
      "[DEBUG] (nonblock  ) wait_for_event_timeout starting\n",
      "[DEBUG] (MainThread) Waiting before calling Event.set()\n",
      "[DEBUG] (nonblock  ) event set: False\n",
      "[DEBUG] (nonblock  ) doing other work\n",
      "[DEBUG] (nonblock  ) wait_for_event_timeout starting\n",
      "[DEBUG] (nonblock  ) event set: False\n",
      "[DEBUG] (nonblock  ) doing other work\n",
      "[DEBUG] (nonblock  ) wait_for_event_timeout starting\n",
      "[DEBUG] (MainThread) Event is set\n",
      "[DEBUG] (nonblock  ) event set: True\n",
      "[DEBUG] (block     ) event set: True\n",
      "[DEBUG] (nonblock  ) processing event\n"
     ]
    }
   ],
   "source": [
    "# threading_event.py\n",
    "import logging\n",
    "import threading\n",
    "import time\n",
    "\n",
    "\n",
    "def wait_for_event(e):\n",
    "    \"\"\"Wait for the event to be set before doing anything\"\"\"\n",
    "    logging.debug('wait_for_event starting')\n",
    "    event_is_set = e.wait()\n",
    "    logging.debug('event set: %s', event_is_set)\n",
    "\n",
    "\n",
    "def wait_for_event_timeout(e, t):\n",
    "    \"\"\"Wait t seconds and then timeout\"\"\"\n",
    "    while not e.is_set():\n",
    "        logging.debug('wait_for_event_timeout starting')\n",
    "        event_is_set = e.wait(t)\n",
    "        logging.debug('event set: %s', event_is_set)\n",
    "        if event_is_set:\n",
    "            logging.debug('processing event')\n",
    "        else:\n",
    "            logging.debug('doing other work')\n",
    "\n",
    "\n",
    "logging.basicConfig(\n",
    "    level=logging.DEBUG,\n",
    "    format='(%(threadName)-10s) %(message)s',\n",
    ")\n",
    "\n",
    "e = threading.Event()\n",
    "t1 = threading.Thread(\n",
    "    name='block',\n",
    "    target=wait_for_event,\n",
    "    args=(e,),\n",
    ")\n",
    "t1.start()\n",
    "\n",
    "t2 = threading.Thread(\n",
    "    name='nonblock',\n",
    "    target=wait_for_event_timeout,\n",
    "    args=(e, 2),\n",
    ")\n",
    "t2.start()\n",
    "\n",
    "logging.debug('Waiting before calling Event.set()')\n",
    "time.sleep(5)\n",
    "e.set()\n",
    "logging.debug('Event is set')\n"
   ]
  },
  {
   "cell_type": "markdown",
   "metadata": {},
   "source": [
    "## Controlling Access to Resources"
   ]
  },
  {
   "cell_type": "markdown",
   "metadata": {},
   "source": [
    "In addition to synchronizing the operations of threads, it is also important to be able to control access to shared resources to prevent corruption or missed data. Python’s built-in data structures (lists, dictionaries, etc.) are thread-safe as a side-effect of having atomic byte-codes for manipulating them (the global interpreter lock used to protect Python’s internal data structures is not released in the middle of an update). Other data structures implemented in Python, or simpler types like integers and floats, do not have that protection. To guard against simultaneous access to an object, use a Lock object."
   ]
  },
  {
   "cell_type": "code",
   "execution_count": null,
   "metadata": {},
   "outputs": [
    {
     "name": "stderr",
     "output_type": "stream",
     "text": [
      "[DEBUG] (Thread-42 ) Sleeping 0.73\n",
      "[DEBUG] (Thread-43 ) Sleeping 0.70\n",
      "[DEBUG] (MainThread) Waiting for worker threads\n",
      "[DEBUG] (Thread-43 ) Waiting for lock\n",
      "[DEBUG] (Thread-43 ) Acquired lock\n",
      "[DEBUG] (Thread-43 ) Sleeping 0.46\n",
      "[DEBUG] (Thread-42 ) Waiting for lock\n",
      "[DEBUG] (Thread-42 ) Acquired lock\n",
      "[DEBUG] (Thread-42 ) Sleeping 0.97\n"
     ]
    },
    {
     "name": "stdout",
     "output_type": "stream",
     "text": [
      "1 by 1\n",
      "2 by 0\n"
     ]
    },
    {
     "name": "stderr",
     "output_type": "stream",
     "text": [
      "[DEBUG] (Thread-43 ) Waiting for lock\n",
      "[DEBUG] (Thread-43 ) Acquired lock\n",
      "[DEBUG] (Thread-43 ) Done\n"
     ]
    },
    {
     "name": "stdout",
     "output_type": "stream",
     "text": [
      "3 by 1\n"
     ]
    },
    {
     "name": "stderr",
     "output_type": "stream",
     "text": [
      "[DEBUG] (Thread-42 ) Waiting for lock\n",
      "[DEBUG] (Thread-42 ) Acquired lock\n",
      "[DEBUG] (Thread-42 ) Done\n"
     ]
    },
    {
     "name": "stdout",
     "output_type": "stream",
     "text": [
      "4 by 0\n"
     ]
    }
   ],
   "source": [
    "# threading_lock.py\n",
    "import logging\n",
    "import random\n",
    "import threading\n",
    "import time\n",
    "\n",
    "\n",
    "class Counter:\n",
    "\n",
    "    def __init__(self, start=0):\n",
    "        self.lock = threading.Lock()\n",
    "        self.value = start\n",
    "\n",
    "    def increment(self, worker_number):\n",
    "        logging.debug('Waiting for lock')\n",
    "        self.lock.acquire()\n",
    "        try:\n",
    "            logging.debug('Acquired lock')\n",
    "            self.value = self.value + 1\n",
    "            print(self.value, f'by {worker_number}')\n",
    "        finally:\n",
    "            self.lock.release()\n",
    "\n",
    "\n",
    "def worker(c, worker_number):\n",
    "    for i in range(2):\n",
    "        pause = random.random()\n",
    "        logging.debug('Sleeping %0.02f', pause)\n",
    "        time.sleep(pause)\n",
    "        c.increment(worker_number)\n",
    "    logging.debug('Done')\n",
    "\n",
    "\n",
    "logging.basicConfig(\n",
    "    level=logging.DEBUG,\n",
    "    format='(%(threadName)-10s) %(message)s',\n",
    ")\n",
    "\n",
    "counter = Counter()\n",
    "for i in range(2):\n",
    "    t = threading.Thread(target=worker, args=(counter, i))\n",
    "    t.start()\n",
    "\n",
    "logging.debug('Waiting for worker threads')\n",
    "main_thread = threading.main_thread()\n",
    "for t in threading.enumerate():\n",
    "    if t is not main_thread:\n",
    "        t.join()\n",
    "logging.debug('Counter: %d', counter.value)"
   ]
  },
  {
   "cell_type": "markdown",
   "metadata": {},
   "source": [
    "## Locks as Context Managers"
   ]
  },
  {
   "cell_type": "markdown",
   "metadata": {},
   "source": [
    "Locks implement the context manager API and are compatible with the with statement. Using with removes the need to explicitly acquire and release the lock."
   ]
  },
  {
   "cell_type": "code",
   "execution_count": 23,
   "metadata": {},
   "outputs": [
    {
     "name": "stderr",
     "output_type": "stream",
     "text": [
      "[DEBUG] (Thread-35 ) Lock acquired via with\n",
      "[DEBUG] (Thread-36 ) Lock acquired directly\n"
     ]
    }
   ],
   "source": [
    "# threading_lock_with.py\n",
    "import threading\n",
    "import logging\n",
    "\n",
    "\n",
    "def worker_with(lock):\n",
    "    with lock:\n",
    "        logging.debug('Lock acquired via with')\n",
    "\n",
    "\n",
    "def worker_no_with(lock):\n",
    "    lock.acquire()\n",
    "    try:\n",
    "        logging.debug('Lock acquired directly')\n",
    "    finally:\n",
    "        lock.release()\n",
    "\n",
    "\n",
    "logging.basicConfig(\n",
    "    level=logging.DEBUG,\n",
    "    format='(%(threadName)-10s) %(message)s',\n",
    ")\n",
    "\n",
    "lock = threading.Lock()\n",
    "w = threading.Thread(target=worker_with, args=(lock,))\n",
    "nw = threading.Thread(target=worker_no_with, args=(lock,))\n",
    "\n",
    "w.start()\n",
    "nw.start()"
   ]
  },
  {
   "cell_type": "markdown",
   "metadata": {},
   "source": [
    "## Limiting Concurrent Access to Resources"
   ]
  },
  {
   "cell_type": "markdown",
   "metadata": {},
   "source": [
    "Sometimes it is useful to allow more than one worker access to a resource at a time, while still limiting the overall number. For example, a connection pool might support a fixed number of simultaneous connections, or a network application might support a fixed number of concurrent downloads. A Semaphore is one way to manage those connections."
   ]
  },
  {
   "cell_type": "code",
   "execution_count": 24,
   "metadata": {},
   "outputs": [
    {
     "name": "stderr",
     "output_type": "stream",
     "text": [
      "[DEBUG] (0         ) Waiting to join the pool\n",
      "[DEBUG] (1         ) Waiting to join the pool\n",
      "[DEBUG] (2         ) Waiting to join the pool\n",
      "[DEBUG] (3         ) Waiting to join the pool\n",
      "[DEBUG] (0         ) Running: ['0']\n",
      "[DEBUG] (1         ) Running: ['0', '1']\n",
      "[DEBUG] (0         ) Running: ['1']\n",
      "[DEBUG] (1         ) Running: []\n",
      "[DEBUG] (3         ) Running: ['3']\n",
      "[DEBUG] (2         ) Running: ['3', '2']\n",
      "[DEBUG] (3         ) Running: ['2']\n",
      "[DEBUG] (2         ) Running: []\n"
     ]
    }
   ],
   "source": [
    "# threading_semaphore.py\n",
    "import logging\n",
    "import random\n",
    "import threading\n",
    "import time\n",
    "\n",
    "\n",
    "class ActivePool:\n",
    "\n",
    "    def __init__(self):\n",
    "        super(ActivePool, self).__init__()\n",
    "        self.active = []\n",
    "        self.lock = threading.Lock()\n",
    "\n",
    "    def makeActive(self, name):\n",
    "        with self.lock:\n",
    "            self.active.append(name)\n",
    "            logging.debug('Running: %s', self.active)\n",
    "\n",
    "    def makeInactive(self, name):\n",
    "        with self.lock:\n",
    "            self.active.remove(name)\n",
    "            logging.debug('Running: %s', self.active)\n",
    "\n",
    "\n",
    "def worker(s, pool):\n",
    "    logging.debug('Waiting to join the pool')\n",
    "    with s:\n",
    "        name = threading.current_thread().getName()\n",
    "        pool.makeActive(name)\n",
    "        time.sleep(0.1)\n",
    "        pool.makeInactive(name)\n",
    "\n",
    "\n",
    "logging.basicConfig(\n",
    "    level=logging.DEBUG,\n",
    "    format='%(asctime)s (%(threadName)-2s) %(message)s',\n",
    ")\n",
    "\n",
    "pool = ActivePool()\n",
    "s = threading.Semaphore(2)\n",
    "for i in range(4):\n",
    "    t = threading.Thread(\n",
    "        target=worker,\n",
    "        name=str(i),\n",
    "        args=(s, pool),\n",
    "    )\n",
    "    t.start()"
   ]
  },
  {
   "cell_type": "code",
   "execution_count": null,
   "metadata": {},
   "outputs": [],
   "source": []
  }
 ],
 "metadata": {
  "kernelspec": {
   "display_name": "Python 3",
   "language": "python",
   "name": "python3"
  },
  "language_info": {
   "codemirror_mode": {
    "name": "ipython",
    "version": 3
   },
   "file_extension": ".py",
   "mimetype": "text/x-python",
   "name": "python",
   "nbconvert_exporter": "python",
   "pygments_lexer": "ipython3",
   "version": "3.6.5"
  }
 },
 "nbformat": 4,
 "nbformat_minor": 2
}
