{
 "cells": [
  {
   "cell_type": "markdown",
   "metadata": {},
   "source": [
    "# SLOTS"
   ]
  },
  {
   "cell_type": "code",
   "execution_count": 8,
   "metadata": {},
   "outputs": [],
   "source": [
    "class SlotsClass:\n",
    "    __slots__ = ['name', 'age']\n",
    "    def __init__(self):\n",
    "        self.name = 'John'\n",
    "        self.age = 20\n",
    "\n",
    "        \n",
    "class StandartClass:\n",
    "    def __init__(self):\n",
    "        self.name = 'John'\n",
    "        self.age = 20"
   ]
  },
  {
   "cell_type": "code",
   "execution_count": 9,
   "metadata": {},
   "outputs": [],
   "source": [
    "sloted = SlotsClass()\n",
    "standart = StandartClass()"
   ]
  },
  {
   "cell_type": "markdown",
   "metadata": {},
   "source": [
    "#### TLDR:\n",
    "\n",
    "The special attribute \\_\\_slots__ allows you to explicitly state which instance attributes you expect your object instances to have, with the expected results:\n",
    "\n",
    "1. faster attribute access.\n",
    "2. space savings in memory.\n",
    "\n",
    "#### The space savings is from\n",
    "\n",
    "1. Storing value references in slots instead of __dict__.\n",
    "2. enying __dict__ and __weakref__ creation if parent classes deny them and you declare __slots__.\n"
   ]
  },
  {
   "cell_type": "markdown",
   "metadata": {},
   "source": [
    "You should only declare a particular slot one time in an inheritance tree. For example:"
   ]
  },
  {
   "cell_type": "code",
   "execution_count": 14,
   "metadata": {},
   "outputs": [],
   "source": [
    "class Base:\n",
    "    __slots__ = 'foo', 'bar'\n",
    "\n",
    "class Right(Base):\n",
    "    __slots__ = 'baz', \n",
    "\n",
    "class Wrong(Base):\n",
    "    __slots__ = 'foo', 'bar', 'baz' "
   ]
  },
  {
   "cell_type": "markdown",
   "metadata": {},
   "source": [
    "#### The biggest caveat is for multiple inheritance - multiple \"parent classes with nonempty slots\" cannot be combined."
   ]
  },
  {
   "cell_type": "code",
   "execution_count": 20,
   "metadata": {},
   "outputs": [
    {
     "ename": "TypeError",
     "evalue": "multiple bases have instance lay-out conflict",
     "output_type": "error",
     "traceback": [
      "\u001b[0;31m---------------------------------------------------------------------------\u001b[0m",
      "\u001b[0;31mTypeError\u001b[0m                                 Traceback (most recent call last)",
      "\u001b[0;32m<ipython-input-20-963b69da2fd1>\u001b[0m in \u001b[0;36m<module>\u001b[0;34m\u001b[0m\n\u001b[1;32m     10\u001b[0m         \u001b[0mself\u001b[0m\u001b[0;34m.\u001b[0m\u001b[0mbaz\u001b[0m \u001b[0;34m=\u001b[0m \u001b[0;36m1\u001b[0m\u001b[0;34m\u001b[0m\u001b[0m\n\u001b[1;32m     11\u001b[0m \u001b[0;34m\u001b[0m\u001b[0m\n\u001b[0;32m---> 12\u001b[0;31m \u001b[0;32mclass\u001b[0m \u001b[0mWrong\u001b[0m\u001b[0;34m(\u001b[0m\u001b[0mFirst\u001b[0m\u001b[0;34m,\u001b[0m \u001b[0mSecond\u001b[0m\u001b[0;34m)\u001b[0m\u001b[0;34m:\u001b[0m\u001b[0;34m\u001b[0m\u001b[0m\n\u001b[0m\u001b[1;32m     13\u001b[0m     \u001b[0m__slots__\u001b[0m \u001b[0;34m=\u001b[0m \u001b[0;34m'foo'\u001b[0m\u001b[0;34m,\u001b[0m \u001b[0;34m'bar'\u001b[0m\u001b[0;34m,\u001b[0m \u001b[0;34m'baz'\u001b[0m\u001b[0;34m\u001b[0m\u001b[0m\n",
      "\u001b[0;31mTypeError\u001b[0m: multiple bases have instance lay-out conflict"
     ]
    }
   ],
   "source": [
    "class First:\n",
    "    __slots__ = 'foo', 'bar'\n",
    "    def __init__(self):\n",
    "        self.foo = 1\n",
    "        self.bar = 2\n",
    "        \n",
    "class Second:\n",
    "    __slots__ = 'baz',\n",
    "    def __init__(self):\n",
    "        self.baz = 1\n",
    "    \n",
    "class Wrong(First, Second):\n",
    "    __slots__ = 'foo', 'bar', 'baz' \n"
   ]
  },
  {
   "cell_type": "markdown",
   "metadata": {},
   "source": [
    "To accommodate this restriction, follow best practices: Factor out all but one or all parents' abstraction which their concrete class respectively and your new concrete class collectively will inherit from - giving the abstraction(s) empty slots (just like abstract base classes in the standard library)."
   ]
  },
  {
   "cell_type": "markdown",
   "metadata": {},
   "source": [
    "### Requirements:\n",
    "* To have attributes named in \\_\\_slots__ to actually be stored in slots instead of a \\_\\_dict__, a class must inherit from object.\n",
    "* To prevent the creation of a \\_\\_dict__, you must inherit from object and all classes in the inheritance must declare \\_\\_slots__ and none of them can have a '\\_\\_dict__' entry."
   ]
  },
  {
   "cell_type": "code",
   "execution_count": null,
   "metadata": {},
   "outputs": [],
   "source": []
  }
 ],
 "metadata": {
  "kernelspec": {
   "display_name": "Python 3",
   "language": "python",
   "name": "python3"
  },
  "language_info": {
   "codemirror_mode": {
    "name": "ipython",
    "version": 3
   },
   "file_extension": ".py",
   "mimetype": "text/x-python",
   "name": "python",
   "nbconvert_exporter": "python",
   "pygments_lexer": "ipython3",
   "version": "3.7.0b4"
  }
 },
 "nbformat": 4,
 "nbformat_minor": 2
}
